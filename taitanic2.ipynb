{
  "nbformat": 4,
  "nbformat_minor": 0,
  "metadata": {
    "colab": {
      "name": "taitanic2.ipynb",
      "provenance": [],
      "collapsed_sections": [],
      "include_colab_link": true
    },
    "kernelspec": {
      "name": "python3",
      "display_name": "Python 3"
    },
    "accelerator": "GPU"
  },
  "cells": [
    {
      "cell_type": "markdown",
      "metadata": {
        "id": "view-in-github",
        "colab_type": "text"
      },
      "source": [
        "<a href=\"https://colab.research.google.com/github/YukiFujisawa/kaggle/blob/master/taitanic2.ipynb\" target=\"_parent\"><img src=\"https://colab.research.google.com/assets/colab-badge.svg\" alt=\"Open In Colab\"/></a>"
      ]
    },
    {
      "cell_type": "code",
      "metadata": {
        "id": "KRBBu6JMXXRt",
        "colab_type": "code",
        "outputId": "c8c5920f-e9af-432d-8aea-2710229c6fe5",
        "colab": {
          "base_uri": "https://localhost:8080/",
          "height": 121
        }
      },
      "source": [
        "from google.colab import drive\n",
        "drive.mount(\"/content/drive/\")"
      ],
      "execution_count": 1,
      "outputs": [
        {
          "output_type": "stream",
          "text": [
            "Go to this URL in a browser: https://accounts.google.com/o/oauth2/auth?client_id=947318989803-6bn6qk8qdgf4n4g3pfee6491hc0brc4i.apps.googleusercontent.com&redirect_uri=urn%3Aietf%3Awg%3Aoauth%3A2.0%3Aoob&scope=email%20https%3A%2F%2Fwww.googleapis.com%2Fauth%2Fdocs.test%20https%3A%2F%2Fwww.googleapis.com%2Fauth%2Fdrive%20https%3A%2F%2Fwww.googleapis.com%2Fauth%2Fdrive.photos.readonly%20https%3A%2F%2Fwww.googleapis.com%2Fauth%2Fpeopleapi.readonly&response_type=code\n",
            "\n",
            "Enter your authorization code:\n",
            "··········\n",
            "Mounted at /content/drive/\n"
          ],
          "name": "stdout"
        }
      ]
    },
    {
      "cell_type": "code",
      "metadata": {
        "id": "YZBPaFtD4B-g",
        "colab_type": "code",
        "colab": {}
      },
      "source": [
        "import pandas as pd\n",
        "import matplotlib.pyplot as plt\n",
        "import os\n",
        "import math\n",
        "from sklearn import svm, metrics, preprocessing, model_selection #機械学習用のライブラリを利用\n",
        "from sklearn.kernel_approximation import RBFSampler #カーネル近似用の関数\n",
        "from sklearn.ensemble import RandomForestClassifier\n",
        "from sklearn.model_selection import GridSearchCV\n",
        "# LightGBM\n",
        "import lightgbm as lgb\n",
        "import os\n",
        "\n",
        "BASE_DIR = '/content/drive/My Drive/kaggle/taitanic'\n",
        "\n"
      ],
      "execution_count": 0,
      "outputs": []
    },
    {
      "cell_type": "code",
      "metadata": {
        "id": "rP06-FbRYr5F",
        "colab_type": "code",
        "colab": {}
      },
      "source": [
        "## 関数：データ読み込みと準備\n",
        "def read_data_frame(file_name):\n",
        "\n",
        "  # train.csvを読み込んで、扱いやす良いように\"male\", \"femail\"を0, 1に変換する\n",
        "  training_data_frame= pd.read_csv(BASE_DIR + '/' + file_name).replace(\"male\",0).replace(\"female\",1)\n",
        "\n",
        "  # Ageにはいくつか欠損してるレコードがある\n",
        "  # 欠損しているところは中央値を当てはめるようにする\n",
        "  # training_data_frame.fillnaは、空白のセルを埋めてくれる関数\n",
        "  training_data_frame[\"Age\"].fillna(training_data_frame.Age.mean(), inplace=True)\n",
        "  training_data_frame[\"Fare\"].fillna(training_data_frame.Fare.mean(), inplace=True)\n",
        "  # training_data_frame['Generation'] = 0\n",
        "\n",
        "  # 乗船料をパーセントランクする\n",
        "  training_data_frame['FareRank'] = 0.0\n",
        "  training_data_frame['Generation'] = 0.0\n",
        "  training_data_frame['FamilySizeRank'] = 0.0\n",
        "  training_data_frame['PctFareRank'] = training_data_frame['Fare'].rank(pct=True)\n",
        "  training_data_frame[\"FamilySize\"] = training_data_frame[\"SibSp\"] + training_data_frame[\"Parch\"] + 1\n",
        "\n",
        "  # 年代を追加\n",
        "  for index, row in training_data_frame.iterrows():\n",
        "    if row[\"Age\"] <= 15:\n",
        "      training_data_frame.at[index, \"Generation\"] = 2.0\n",
        "    elif row[\"Age\"] <= 60:\n",
        "      training_data_frame.at[index, \"Generation\"] = 3.0\n",
        "    else:\n",
        "      training_data_frame.at[index, \"Generation\"] = 4.0\n",
        "   \n",
        "    if row[\"PctFareRank\"] <= 0.3:\n",
        "      training_data_frame.at[index, \"FareRank\"] = 3.0\n",
        "    elif row[\"PctFareRank\"] <= 0.8:\n",
        "      training_data_frame.at[index, \"FareRank\"] = 2.0\n",
        "    else:\n",
        "      training_data_frame.at[index, \"FareRank\"] = 1.0\n",
        "    \n",
        "    if row[\"FamilySize\"] <= 1:\n",
        "      training_data_frame.at[index, \"FamilySizeRank\"] = 1.0\n",
        "    elif row[\"FamilySize\"] <= 4:\n",
        "      training_data_frame.at[index, \"FamilySizeRank\"] = 2.0\n",
        "    else:\n",
        "      training_data_frame.at[index, \"FamilySizeRank\"] = 3.0\n",
        "  \n",
        "  training_data_frame['FareRank'] = training_data_frame['FareRank'].astype(float)\n",
        "  training_data_frame['Generation'] = training_data_frame['Generation'].astype(float)\n",
        "  training_data_frame['FamilySizeRank'] = training_data_frame['FamilySizeRank'].astype(float)\n",
        "\n",
        "  return training_data_frame.drop([\"Name\", \n",
        "                                   \"SibSp\", \n",
        "                                   \"Parch\", \n",
        "                                   \"Ticket\", \n",
        "                                   \"Cabin\", \n",
        "                                   \"Fare\",\n",
        "                                   \"Embarked\",\n",
        "                                   \"Age\", \n",
        "                                   \"FamilySize\", \n",
        "                                   \"PctFareRank\",\n",
        "                                   ], axis=1, )\n",
        "\n"
      ],
      "execution_count": 0,
      "outputs": []
    },
    {
      "cell_type": "code",
      "metadata": {
        "id": "8KOaqrVcH8-y",
        "colab_type": "code",
        "colab": {}
      },
      "source": [
        "# 関数：ランダムフォレスト\n",
        "def random_forest(xs, y):\n",
        "\n",
        "  #　ランダムフォレストを選択する\n",
        "  # http://neuro-educator.com/ml6/\n",
        "  # n_estimatorsはパラメータ。\n",
        "  # 40種類のパラメータがあるのでそれを調整するのがデータエンジニアの仕事\n",
        "  model = RandomForestClassifier(n_estimators = 1000)\n",
        "\n",
        "  # 学習してモデルを作成する\n",
        "  # 原因（xs） => 結果（y）の因果関係をランダムフォレストで学習する\n",
        "  # y: Survived\n",
        "\n",
        "  return model.fit(xs, y)"
      ],
      "execution_count": 0,
      "outputs": []
    },
    {
      "cell_type": "code",
      "metadata": {
        "id": "t3VALyCI9FWH",
        "colab_type": "code",
        "colab": {}
      },
      "source": [
        "# 関数：LightGBM\n",
        "def lightgbm(xs, y):\n",
        "  model = lgb.LGBMClassifier()\n",
        "  return model.fit(xs, y)"
      ],
      "execution_count": 0,
      "outputs": []
    },
    {
      "cell_type": "code",
      "metadata": {
        "id": "bzaJJwmyH6hx",
        "colab_type": "code",
        "colab": {}
      },
      "source": [
        "# 関数：カーネルSVN\n",
        "def kernel_svn(xs, y):\n",
        "\n",
        "  # パラメータを dict 型で指定\n",
        "  param_grid = {'C': [1, 10, 100, 1000],  'gamma' : [0.001, 0.01, 0.1, 1, 10]}\n",
        "  grid_search = GridSearchCV(svm.SVC(kernel='rbf', random_state=0), param_grid, cv=5)\n",
        "  grid_search.fit(xs, y)\n",
        "\n",
        "  return grid_search.best_estimator_\n",
        "  # clf_result=svm.SVC(kernel='rbf', gamma=1.0 , C=100.0,class_weight='balanced', random_state=0)\n",
        "  # return clf_result.fit(xs, y)"
      ],
      "execution_count": 0,
      "outputs": []
    },
    {
      "cell_type": "code",
      "metadata": {
        "id": "ha9swXOLHyBq",
        "colab_type": "code",
        "colab": {}
      },
      "source": [
        "# 関数：モデル学習\n",
        "def fit(model_id, xs, survived_list):\n",
        "\n",
        "  if model_id == 1:\n",
        "    return random_forest(xs, survived_list)\n",
        "  elif model_id == 2:\n",
        "    return kernel_svn(xs, survived_list)\n",
        "  else:\n",
        "    return lightgbm(xs, survived_list)"
      ],
      "execution_count": 0,
      "outputs": []
    },
    {
      "cell_type": "code",
      "metadata": {
        "id": "G6OGDFj9rBrf",
        "colab_type": "code",
        "outputId": "15e32be6-f3f5-46fb-e563-8f4dd6fc7b7d",
        "colab": {
          "base_uri": "https://localhost:8080/",
          "height": 34
        }
      },
      "source": [
        "## START メイン処理\n",
        "\n",
        "training_data_frame = read_data_frame('train.csv')\n",
        "training_data_array = training_data_frame.values\n",
        "\n",
        "# トレーニングデータ（原因）\n",
        "xs = training_data_array[:, 2:] \n",
        "\n",
        "# トレーニングデータ（結果）\n",
        "# [Survived]\n",
        "survived_list = training_data_array[:, 1] \n",
        "\n",
        "# モデルIDの定義\n",
        "MODEL_RANDOM_FOREST = 1\n",
        "MODEL_KERNEL_SVN = 2\n",
        "MODEL_LGB = 3\n",
        "\n",
        "# 学習\n",
        "clf_result = fit(MODEL_LGB, xs, survived_list)\n",
        "\n",
        "# 予測\n",
        "predict_survived_list = clf_result.predict(xs)\n",
        "\n",
        "# 正答率の計算\n",
        "ac_score=metrics.accuracy_score(survived_list, predict_survived_list)\n",
        "print(\"MODEL_KERNEL_SVN = \",ac_score)\n",
        "\n",
        "# 学習\n",
        "# clf_result = fit(MODEL_RANDOM_FOREST, xs, survived_list)\n",
        "\n",
        "# 予測\n",
        "# predict_survived_list = clf_result.predict(xs)\n",
        "\n",
        "# 正答率の計算\n",
        "# ac_score=metrics.accuracy_score(survived_list, predict_survived_list)\n",
        "# print(\"MODEL_RANDOM_FOREST = \",ac_score)\n"
      ],
      "execution_count": 89,
      "outputs": [
        {
          "output_type": "stream",
          "text": [
            "MODEL_KERNEL_SVN =  0.8383838383838383\n"
          ],
          "name": "stdout"
        }
      ]
    },
    {
      "cell_type": "code",
      "metadata": {
        "id": "5bhd01hbvblR",
        "colab_type": "code",
        "colab": {}
      },
      "source": [
        "# テスト実行と予測結果\n",
        "\n",
        "test_data_frame = read_data_frame('test.csv')\n",
        "\n",
        "# ndarrayへの変換\n",
        "test_data = test_data_frame.values\n",
        "\n",
        "# test_data[:, 1:] = [[Pclass,Sex,Age,FamilySize]]\n",
        "# predict_survived_list = [Survived]\n",
        "predict_survived_list = clf_result.predict(test_data[:, 1:])\n",
        "\n",
        "# test_data[:, 1:] = [PassengerID]\n",
        "test_passenger_ids = test_data[:,0].astype(int)\n",
        "\n",
        "# 予測結果\n",
        "# predict_ = [[PassengerID, Survived]]\n",
        "predict_results = list(\n",
        "    zip(test_passenger_ids, predict_survived_list)\n",
        ")"
      ],
      "execution_count": 0,
      "outputs": []
    },
    {
      "cell_type": "code",
      "metadata": {
        "id": "iD3Z6-sDjmIK",
        "colab_type": "code",
        "colab": {}
      },
      "source": [
        "## 予測結果のCSV出力\n",
        "\n",
        "import csv\n",
        "\n",
        "# 予想した結果をpredict_result_data.csvに出力します\n",
        "# PassengerId, Survived\n",
        "# \n",
        "with open(BASE_DIR + \"/predict_result_data.csv\", \"w\") as f:\n",
        "    writer = csv.writer(f, lineterminator='\\n')\n",
        "    writer.writerow([\"PassengerId\", \"Survived\"])\n",
        "    for pid, survived in zip(test_data[:,0].astype(int), predict_survived_list.astype(int)):\n",
        "        writer.writerow([pid, survived])\n",
        "\n",
        "\n",
        "\n",
        "## zipについて。\n",
        "## イテラブルオブジェクト（リストやタプルなど）の要素を同時に取得して使いたい場合は、\n",
        "## zip()関数を使う。以下、使用例\n",
        "#\n",
        "# names = ['Alice', 'Bob', 'Charlie']\n",
        "# ages = [24, 50, 18]\n",
        "#\n",
        "# for name, age in zip(names, ages):\n",
        "#   print(name, age)\n",
        "#=>  Alice 24\n",
        "#=>  Bob 50\n",
        "#=>   Charlie 18"
      ],
      "execution_count": 0,
      "outputs": []
    },
    {
      "cell_type": "markdown",
      "metadata": {
        "id": "P_RJ5u8_O3V3",
        "colab_type": "text"
      },
      "source": [
        "ここからデータ分析\n",
        "\n",
        "FamilySizeRank： 家族数をランク分類したもの\n",
        "\n",
        "FareRank： 運賃をランク分類したもの\n",
        "\n",
        "Generation：年代をランク分類したもの"
      ]
    },
    {
      "cell_type": "code",
      "metadata": {
        "id": "EKyAFekhHK7g",
        "colab_type": "code",
        "outputId": "2c162f92-fb77-45e4-f9ff-2f38d9c89b70",
        "colab": {
          "base_uri": "https://localhost:8080/",
          "height": 319
        }
      },
      "source": [
        "split_data = []\n",
        "for survived in [0,1]:\n",
        "  split_data.append(training_data_frame[training_data_frame.Survived==survived])\n",
        "\n",
        "plt.hist(\n",
        "    [i[\"FamilySizeRank\"].dropna() for i in split_data], \n",
        "    histtype=\"barstacked\", bins=3\n",
        ")"
      ],
      "execution_count": 48,
      "outputs": [
        {
          "output_type": "execute_result",
          "data": {
            "text/plain": [
              "([array([374., 123.,  52.]), array([537., 292.,  62.])],\n",
              " array([1.        , 1.66666667, 2.33333333, 3.        ]),\n",
              " <a list of 2 Lists of Patches objects>)"
            ]
          },
          "metadata": {
            "tags": []
          },
          "execution_count": 48
        },
        {
          "output_type": "display_data",
          "data": {
            "image/png": "[encoded data removed]",
            "text/plain": [
              "<Figure size 432x288 with 1 Axes>"
            ]
          },
          "metadata": {
            "tags": []
          }
        }
      ]
    },
    {
      "cell_type": "code",
      "metadata": {
        "id": "mnps0lS5M3Gy",
        "colab_type": "code",
        "outputId": "1f7cd13d-7975-4f3f-ea76-7e659a1a3b25",
        "colab": {
          "base_uri": "https://localhost:8080/",
          "height": 319
        }
      },
      "source": [
        "plt.hist(\n",
        "    [i[\"FareRank\"].dropna() for i in split_data], \n",
        "    histtype=\"barstacked\", bins=4\n",
        ")"
      ],
      "execution_count": 71,
      "outputs": [
        {
          "output_type": "execute_result",
          "data": {
            "text/plain": [
              "([array([179., 156., 121.,  93.]), array([223., 224., 222., 222.])],\n",
              " array([0.  , 0.75, 1.5 , 2.25, 3.  ]),\n",
              " <a list of 2 Lists of Patches objects>)"
            ]
          },
          "metadata": {
            "tags": []
          },
          "execution_count": 71
        },
        {
          "output_type": "display_data",
          "data": {
            "image/png": "[encoded data removed]",
            "text/plain": [
              "<Figure size 432x288 with 1 Axes>"
            ]
          },
          "metadata": {
            "tags": []
          }
        }
      ]
    },
    {
      "cell_type": "code",
      "metadata": {
        "id": "vCMydpdqNqbl",
        "colab_type": "code",
        "outputId": "15532196-b870-454d-fe47-f6490262b188",
        "colab": {
          "base_uri": "https://localhost:8080/",
          "height": 403
        }
      },
      "source": [
        "plt.hist(\n",
        "    [i[\"Generation\"].dropna() for i in split_data], \n",
        "    histtype=\"barstacked\", bins=14\n",
        ")"
      ],
      "execution_count": 58,
      "outputs": [
        {
          "output_type": "execute_result",
          "data": {
            "text/plain": [
              "([array([ 13.,  16.,  23.,  92., 209.,  62.,  45.,  37.,  18.,  15.,  12.,\n",
              "           6.,   1.,   0.]),\n",
              "  array([ 44.,  24.,  45., 134., 314., 113.,  75.,  53.,  39.,  24.,  18.,\n",
              "           6.,   1.,   1.])],\n",
              " array([ 0.        ,  0.92857143,  1.85714286,  2.78571429,  3.71428571,\n",
              "         4.64285714,  5.57142857,  6.5       ,  7.42857143,  8.35714286,\n",
              "         9.28571429, 10.21428571, 11.14285714, 12.07142857, 13.        ]),\n",
              " <a list of 2 Lists of Patches objects>)"
            ]
          },
          "metadata": {
            "tags": []
          },
          "execution_count": 58
        },
        {
          "output_type": "display_data",
          "data": {
            "image/png": "[encoded data removed]",
            "text/plain": [
              "<Figure size 432x288 with 1 Axes>"
            ]
          },
          "metadata": {
            "tags": []
          }
        }
      ]
    },
    {
      "cell_type": "code",
      "metadata": {
        "id": "J1oPsuVero4s",
        "colab_type": "code",
        "colab": {}
      },
      "source": [
        ""
      ],
      "execution_count": 0,
      "outputs": []
    }
  ]
}